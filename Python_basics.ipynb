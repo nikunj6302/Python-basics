{
  "nbformat": 4,
  "nbformat_minor": 0,
  "metadata": {
    "colab": {
      "provenance": []
    },
    "kernelspec": {
      "name": "python3",
      "display_name": "Python 3"
    },
    "language_info": {
      "name": "python"
    }
  },
  "cells": [
    {
      "cell_type": "code",
      "execution_count": null,
      "metadata": {
        "id": "66m8V919cOlz"
      },
      "outputs": [],
      "source": []
    },
    {
      "cell_type": "markdown",
      "source": [
        "#Python Basics Theory Assignment"
      ],
      "metadata": {
        "id": "La1-_PqNcrn0"
      }
    },
    {
      "cell_type": "code",
      "source": [],
      "metadata": {
        "id": "pd3yR1j2czD4"
      },
      "execution_count": null,
      "outputs": []
    },
    {
      "cell_type": "markdown",
      "source": [
        "1. What is Python, and why is it popular?\n",
        "  - Python is a programing language which help to communicate to machine like computer wiht us. Python is very popular because it is very easy to understand and it has very large numbers of libraries are availabe.\n",
        "\n",
        "2. What is an interpreter in Python?\n",
        "  - An interpreter is a program that read and executes Python code into machine languange. for example VS Code, Jupyter notebook, Google colab, etc.\n",
        "\n",
        "3. What are pre-defined keywords in Python?\n",
        "  - Keyworks in Python are help to minimize the big coding to a single word like print, input, type, int, float, str, bool, etc.\n",
        "\n",
        "4. Can keywords be used as variable names?\n",
        "  - Yes, keywords can used as variavle but it shoulde not be because when we use any keywords as variable it will forgot his previous memory that store as keywords and behave like variavel.\n",
        "\n",
        "\n",
        "5. What is mutability in Python?\n",
        "  - mutability means we can change the block value that is store in variable like if we store list in variable a, we can change any member of list because it is mutable. but we can not change any block value of string because it is imutabel\n",
        "\n",
        "6. Why are lists mutable, but tuples are immutable?\n",
        " - Eliment of list can be change but the Eliment of tuple can no be change that's why lists are mutable and tuples are immutabe.\n",
        "\n",
        "7. What is the difference between \"==\" and \"is\" operators in Python?\n",
        "  - The \"==\" operator is used to checks if the values of two objects are equal, it compares the content of the objects. While \"is\" operator is used to checks if two variables refer to the same object in memory, it compares the memory addresses of the objects.\n",
        "\n",
        "8. What are logical operators in Python?\n",
        " - Mainly there are two type of logical operator 'and' and 'or' but we have more operator also like not, nand, nor, xor. it is like a digital electronics gate system.\n",
        "\n",
        "9. What is type casting in Python?\n",
        " - type casting do chage in type of the value store in variable. like if the value store as integer in a variable we can change it as string by using str() operator. similarly we have int(), float(), bool() to change type of value.\n",
        "\n",
        "10. What is the difference between implicit and explicit type casting?\n",
        " -  Python interpreter automatically converts one data type to another without using any keywords are called implicit type casting. and in explicit type casting we need to use specific type casting keywords to change type of value.\n",
        "\n",
        "11. What is the purpose of conditional statements in Python?\n",
        " - The purpose behind condtional statement is to follow the perticuar code if the condition is true. it is use to saperate two path of coding by puting condition.\n",
        "\n",
        "12. How does the elif statement work?\n",
        " - Elif is a combinaiton of 'Else if' it is used for when we have more than two condition. for example if condition-1 true follow this path of coding, elseif condition-2 true follow this path, else follow this path.\n",
        "\n",
        "13. What is the difference between for and while loops?\n",
        "  - 'While' is use to repeatedly executed a block of code untill a condition is met. 'For' is use for every element of stored value do follow a specific code.\n",
        "\n",
        "14. Describe a scenario where a while loop is more suitable than a for loop.\n",
        " - When we don't know how many reapetation are there in the loop then 'while' loop is mote suitable than 'for' loop because 'while' just say do this untill we met the conditon while for 'for' loop we need to specify that for every element of specific value do this, what if we don't know how many element are there in that specific value than use 'while' loop."
      ],
      "metadata": {
        "id": "6asuWX9Xc0Ml"
      }
    },
    {
      "cell_type": "code",
      "source": [
        "\n"
      ],
      "metadata": {
        "id": "_cJhuG0WduIR"
      },
      "execution_count": null,
      "outputs": []
    },
    {
      "cell_type": "markdown",
      "source": [
        "# Python Basics Practical Assignment"
      ],
      "metadata": {
        "id": "D0-L6lDiJw6D"
      }
    },
    {
      "cell_type": "markdown",
      "source": [],
      "metadata": {
        "id": "8PNntYM4du9E"
      }
    },
    {
      "cell_type": "code",
      "source": [
        "# Ans. 1\n",
        "print(\"Hello, World!\")"
      ],
      "metadata": {
        "colab": {
          "base_uri": "https://localhost:8080/"
        },
        "id": "j-j7tVWHKnfV",
        "outputId": "a9e6fd79-0e67-47d3-b60d-3d8bcd4ab830"
      },
      "execution_count": 1,
      "outputs": [
        {
          "output_type": "stream",
          "name": "stdout",
          "text": [
            "Hello, World!\n"
          ]
        }
      ]
    },
    {
      "cell_type": "code",
      "source": [
        "# Ans. 2\n",
        "print(\"My name is Nikunj Sidpara\")\n",
        "print(\"My age is 23\")"
      ],
      "metadata": {
        "colab": {
          "base_uri": "https://localhost:8080/"
        },
        "id": "zzCpqnX3K70Q",
        "outputId": "a0ca4216-d046-44bd-9cb7-7ef699f0f013"
      },
      "execution_count": 2,
      "outputs": [
        {
          "output_type": "stream",
          "name": "stdout",
          "text": [
            "My name is Nikunj Sidpara\n",
            "My age is 23\n"
          ]
        }
      ]
    },
    {
      "cell_type": "code",
      "source": [
        "# Ans. 3\n",
        "import keyword\n",
        "print(keyword.kwlist)"
      ],
      "metadata": {
        "colab": {
          "base_uri": "https://localhost:8080/"
        },
        "id": "-gYOiATeLSdK",
        "outputId": "f963cc04-12ea-4584-f1ce-0e1ccf9fca17"
      },
      "execution_count": 6,
      "outputs": [
        {
          "output_type": "stream",
          "name": "stdout",
          "text": [
            "['False', 'None', 'True', 'and', 'as', 'assert', 'async', 'await', 'break', 'class', 'continue', 'def', 'del', 'elif', 'else', 'except', 'finally', 'for', 'from', 'global', 'if', 'import', 'in', 'is', 'lambda', 'nonlocal', 'not', 'or', 'pass', 'raise', 'return', 'try', 'while', 'with', 'yield']\n"
          ]
        }
      ]
    },
    {
      "cell_type": "code",
      "source": [
        "# Ans. 4\n",
        "import keyword\n",
        "a = input(\"Please give me a word to check is it a keyword or not:\")\n",
        "if a in keyword.kwlist:\n",
        "  print(a, \"is a keyword\")\n",
        "else:\n",
        "  print(a, \"is not a keyword\")"
      ],
      "metadata": {
        "colab": {
          "base_uri": "https://localhost:8080/"
        },
        "id": "jhvUSWWeLwzm",
        "outputId": "06f09737-b3b7-43f9-9140-aa166a88125a"
      },
      "execution_count": 10,
      "outputs": [
        {
          "output_type": "stream",
          "name": "stdout",
          "text": [
            "Please give me a word to check is it a keyword or not:and\n",
            "and is a keyword\n"
          ]
        }
      ]
    },
    {
      "cell_type": "code",
      "source": [
        "# Ans. 5\n",
        "my_list = [1,2,3, \"Apple\", \"Mango\", \"Banana\"]\n",
        "my_tuple = (4,5,6, \"Table\", \"Pen\", \"Book\")\n",
        "\n",
        "my_list[0] = 100\n",
        "my_tuple[0] = 400  # Here tuple is imutable so it give an error\n",
        "\n",
        "print(my_list)\n",
        "print(my_tuple)"
      ],
      "metadata": {
        "colab": {
          "base_uri": "https://localhost:8080/",
          "height": 211
        },
        "id": "EEurvb1mM1ts",
        "outputId": "ac7849e1-bb22-45f8-fb5d-7ca8dab75e7d"
      },
      "execution_count": 13,
      "outputs": [
        {
          "output_type": "error",
          "ename": "TypeError",
          "evalue": "'tuple' object does not support item assignment",
          "traceback": [
            "\u001b[0;31m---------------------------------------------------------------------------\u001b[0m",
            "\u001b[0;31mTypeError\u001b[0m                                 Traceback (most recent call last)",
            "\u001b[0;32m<ipython-input-13-fe178fce2a66>\u001b[0m in \u001b[0;36m<cell line: 0>\u001b[0;34m()\u001b[0m\n\u001b[1;32m      4\u001b[0m \u001b[0;34m\u001b[0m\u001b[0m\n\u001b[1;32m      5\u001b[0m \u001b[0mmy_list\u001b[0m\u001b[0;34m[\u001b[0m\u001b[0;36m0\u001b[0m\u001b[0;34m]\u001b[0m \u001b[0;34m=\u001b[0m \u001b[0;36m100\u001b[0m\u001b[0;34m\u001b[0m\u001b[0;34m\u001b[0m\u001b[0m\n\u001b[0;32m----> 6\u001b[0;31m \u001b[0mmy_tuple\u001b[0m\u001b[0;34m[\u001b[0m\u001b[0;36m0\u001b[0m\u001b[0;34m]\u001b[0m \u001b[0;34m=\u001b[0m \u001b[0;36m400\u001b[0m\u001b[0;34m\u001b[0m\u001b[0;34m\u001b[0m\u001b[0m\n\u001b[0m\u001b[1;32m      7\u001b[0m \u001b[0;34m\u001b[0m\u001b[0m\n\u001b[1;32m      8\u001b[0m \u001b[0mprint\u001b[0m\u001b[0;34m(\u001b[0m\u001b[0mmy_list\u001b[0m\u001b[0;34m)\u001b[0m\u001b[0;34m\u001b[0m\u001b[0;34m\u001b[0m\u001b[0m\n",
            "\u001b[0;31mTypeError\u001b[0m: 'tuple' object does not support item assignment"
          ]
        }
      ]
    },
    {
      "cell_type": "code",
      "source": [
        "# Ans. 6"
      ],
      "metadata": {
        "id": "zxPL-2X0Nwex"
      },
      "execution_count": 14,
      "outputs": []
    },
    {
      "cell_type": "code",
      "source": [
        "# Ans. 7\n",
        "a = int(input(\"Give me a number:\"))\n",
        "b = int(input(\"Give me another number\"))\n",
        "\n",
        "print(\"sum of two number is \", a+b)\n",
        "print(\"diffence between two number is\", a-b)\n",
        "print(\"product of two number is\", a*b)\n",
        "print(\"division of two number is\", a/b)"
      ],
      "metadata": {
        "colab": {
          "base_uri": "https://localhost:8080/"
        },
        "id": "6Xd0dOCuOU7q",
        "outputId": "36900586-9fb8-4e1a-b52a-200b378f77da"
      },
      "execution_count": 15,
      "outputs": [
        {
          "output_type": "stream",
          "name": "stdout",
          "text": [
            "Give me a number:3\n",
            "Give me another number4\n",
            "sum of two number is  7\n",
            "diffence between two number is -1\n",
            "product of two number is 12\n",
            "division of two number is 0.75\n"
          ]
        }
      ]
    },
    {
      "cell_type": "code",
      "source": [
        "# Ans. 8\n",
        "\n",
        "a = 5\n",
        "if a > 0 and a<=100:\n",
        "  print(a, \"is the number is in between 0 to 100\")\n",
        "elif a<0 or a>100:\n",
        "  print(a, \"is the number is not in between 0 to 100\")\n",
        "else:\n",
        "  print(\"The number is Zero\")"
      ],
      "metadata": {
        "colab": {
          "base_uri": "https://localhost:8080/"
        },
        "id": "CkvOYax1PCJk",
        "outputId": "849193c7-4c8b-46c7-c93a-b15e11accc7d"
      },
      "execution_count": 24,
      "outputs": [
        {
          "output_type": "stream",
          "name": "stdout",
          "text": [
            "5 is the number is in between 0 to 100\n"
          ]
        }
      ]
    },
    {
      "cell_type": "code",
      "source": [
        "# Ans. 9\n",
        "a = input(\"Give me a number:\")\n",
        "print(type(a))\n",
        "\n",
        "b = int(a)\n",
        "print(type(b))\n",
        "\n",
        "c = float(a)\n",
        "print(type(c))\n",
        "\n",
        "d = bool(a)\n",
        "print(type(d))"
      ],
      "metadata": {
        "colab": {
          "base_uri": "https://localhost:8080/"
        },
        "id": "9qZ8evBSPhuU",
        "outputId": "4cff96d6-f10b-4e4a-ddfd-2c35836cf4a7"
      },
      "execution_count": 27,
      "outputs": [
        {
          "output_type": "stream",
          "name": "stdout",
          "text": [
            "Give me a number:5\n",
            "<class 'str'>\n",
            "<class 'int'>\n",
            "<class 'float'>\n",
            "<class 'bool'>\n"
          ]
        }
      ]
    },
    {
      "cell_type": "code",
      "source": [
        "# Ans. 10\n",
        "new_list = [\"1\",\"2\",\"3\",\"4\",\"5\",\"6\"]\n",
        "\n",
        "print(type(new_list[0]))\n",
        "print(type(new_list[-1]))\n",
        "\n",
        "a = []\n",
        "\n",
        "for i in new_list:\n",
        "  a.append(int(i))\n",
        "\n",
        "print(a)\n",
        "print(type(a[0]))"
      ],
      "metadata": {
        "colab": {
          "base_uri": "https://localhost:8080/"
        },
        "id": "qU39RN6lQh8F",
        "outputId": "f2b07ae3-2b86-49ae-cb6e-7046be863362"
      },
      "execution_count": 49,
      "outputs": [
        {
          "output_type": "stream",
          "name": "stdout",
          "text": [
            "<class 'str'>\n",
            "<class 'str'>\n",
            "[1, 2, 3, 4, 5, 6]\n",
            "<class 'int'>\n"
          ]
        }
      ]
    },
    {
      "cell_type": "code",
      "source": [
        "# Ans. 11\n",
        "a = int(input(\"Give me an integer: \"))\n",
        "\n",
        "if a>0:\n",
        "  print(a,\"is a positive integer\")\n",
        "\n",
        "elif a<0:\n",
        "  print(a,\"is a negative integer\")\n",
        "\n",
        "else:\n",
        "  print(\"it is a zero\")"
      ],
      "metadata": {
        "colab": {
          "base_uri": "https://localhost:8080/"
        },
        "id": "DHMwA54NSGBb",
        "outputId": "c6661f91-ce9b-4555-aa69-e1500113f435"
      },
      "execution_count": 54,
      "outputs": [
        {
          "output_type": "stream",
          "name": "stdout",
          "text": [
            "Give me an integer: 5\n",
            "5 is a positive integer\n"
          ]
        }
      ]
    },
    {
      "cell_type": "code",
      "source": [
        "# Ans. 12\n",
        "a = list(range(1,11))\n",
        "\n",
        "for i in a:\n",
        "  print(i)"
      ],
      "metadata": {
        "colab": {
          "base_uri": "https://localhost:8080/"
        },
        "id": "UcpKKKtcV_KB",
        "outputId": "47ce0820-9736-468d-f807-0cd80f571423"
      },
      "execution_count": 59,
      "outputs": [
        {
          "output_type": "stream",
          "name": "stdout",
          "text": [
            "1\n",
            "2\n",
            "3\n",
            "4\n",
            "5\n",
            "6\n",
            "7\n",
            "8\n",
            "9\n",
            "10\n"
          ]
        }
      ]
    },
    {
      "cell_type": "code",
      "source": [
        "# Ans. 13\n",
        "\n",
        "a = list(range(1,51))\n",
        "\n",
        "total = 0\n",
        "\n",
        "for i in a:\n",
        "  if i%2==0:\n",
        "    total=total+i\n",
        "  else:\n",
        "    continue\n",
        "\n",
        "print(total)"
      ],
      "metadata": {
        "colab": {
          "base_uri": "https://localhost:8080/"
        },
        "id": "1xmz4ZxCWkSw",
        "outputId": "94fdab98-7bc0-43a0-bd84-076122337a25"
      },
      "execution_count": 61,
      "outputs": [
        {
          "output_type": "stream",
          "name": "stdout",
          "text": [
            "650\n"
          ]
        }
      ]
    },
    {
      "cell_type": "code",
      "source": [
        "# Ans. 14\n",
        "\n",
        "a = \"Apple\"\n",
        "b = ''\n",
        "\n",
        "i = len(a) - 1\n",
        "\n",
        "while(i>=0):\n",
        "  b = b+a[i]\n",
        "  i = i-1\n",
        "\n",
        "print(a)\n",
        "print(b)"
      ],
      "metadata": {
        "colab": {
          "base_uri": "https://localhost:8080/"
        },
        "id": "OMBHai0SXyWn",
        "outputId": "9683d274-2e43-4327-cc89-31f524241b8a"
      },
      "execution_count": 63,
      "outputs": [
        {
          "output_type": "stream",
          "name": "stdout",
          "text": [
            "Apple\n",
            "elppA\n"
          ]
        }
      ]
    },
    {
      "cell_type": "code",
      "source": [
        "# Ans. 15\n",
        "\n",
        "b = int(input(\"Give me an positive integer: \"))\n",
        "\n",
        "a = b\n",
        "factorial = 1\n",
        "\n",
        "while(a>0):\n",
        "  factorial = factorial*a\n",
        "  a = a-1\n",
        "\n",
        "print(\"factorial of\", b, \"is\", factorial)"
      ],
      "metadata": {
        "colab": {
          "base_uri": "https://localhost:8080/"
        },
        "id": "DtHD2WG3Z0cf",
        "outputId": "4154f992-74c1-44b6-87a7-6eae19dd649d"
      },
      "execution_count": 65,
      "outputs": [
        {
          "output_type": "stream",
          "name": "stdout",
          "text": [
            "Give me an positive integer: 4\n",
            "factorial of 4 is 24\n"
          ]
        }
      ]
    },
    {
      "cell_type": "code",
      "source": [],
      "metadata": {
        "id": "dgm--46fa5pb"
      },
      "execution_count": 65,
      "outputs": []
    }
  ]
}